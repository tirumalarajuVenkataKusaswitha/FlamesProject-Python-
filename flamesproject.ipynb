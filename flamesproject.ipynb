{
 "cells": [
  {
   "cell_type": "code",
   "execution_count": 1,
   "id": "f3201df9-d6ab-4ce9-a575-bb8e46015691",
   "metadata": {},
   "outputs": [
    {
     "name": "stdin",
     "output_type": "stream",
     "text": [
      "Enter the first person's name:  enemy\n",
      "Enter the second person's name:  friend\n"
     ]
    },
    {
     "name": "stdout",
     "output_type": "stream",
     "text": [
      "\n",
      "The relationship between Enemy and Friend is: Enemy\n"
     ]
    }
   ],
   "source": [
    "def remove_common_characters(name1_list, name2_list):\n",
    "    for char1 in name1_list:\n",
    "        for char2 in name2_list:\n",
    "            if char1 == char2:\n",
    "                name1_list.remove(char1)\n",
    "                name2_list.remove(char2)\n",
    "                combined = name1_list + [\"*\"] + name2_list\n",
    "                return [combined, True]\n",
    "    combined = name1_list + [\"*\"] + name2_list\n",
    "    return [combined, False]\n",
    "\n",
    "\n",
    "def flames_game():\n",
    "    name1 = input(\"Enter the first person's name: \").lower().replace(\" \", \"\")\n",
    "    name2 = input(\"Enter the second person's name: \").lower().replace(\" \", \"\")\n",
    "\n",
    "    name1_list = list(name1)\n",
    "    name2_list = list(name2)\n",
    "\n",
    "    continue_matching = True\n",
    "\n",
    "    while continue_matching:\n",
    "        result = remove_common_characters(name1_list, name2_list)\n",
    "        combined_list = result[0]\n",
    "        continue_matching = result[1]\n",
    "\n",
    "        star_index = combined_list.index(\"*\")\n",
    "        name1_list = combined_list[:star_index]\n",
    "        name2_list = combined_list[star_index + 1:]\n",
    "\n",
    "    total_unmatched = len(name1_list) + len(name2_list)\n",
    "\n",
    "    flames = [\"Friends\", \"Love\", \"Affection\", \"Marriage\", \"Enemy\", \"Siblings\"]\n",
    "\n",
    "    while len(flames) > 1:\n",
    "        split_index = (total_unmatched % len(flames)) - 1\n",
    "\n",
    "        if split_index >= 0:\n",
    "            right = flames[split_index + 1:]\n",
    "            left = flames[:split_index]\n",
    "            flames = right + left\n",
    "        else:\n",
    "            flames = flames[:len(flames) - 1]\n",
    "\n",
    "    print(f\"\\nThe relationship between {name1.capitalize()} and {name2.capitalize()} is: {flames[0]}\")\n",
    "\n",
    "\n",
    "if __name__ == \"__main__\":\n",
    "    flames_game()\n"
   ]
  },
  {
   "cell_type": "code",
   "execution_count": null,
   "id": "f67e1484-3409-438a-859b-bd3d9e55aacd",
   "metadata": {},
   "outputs": [],
   "source": []
  }
 ],
 "metadata": {
  "kernelspec": {
   "display_name": "Python 3 (ipykernel)",
   "language": "python",
   "name": "python3"
  },
  "language_info": {
   "codemirror_mode": {
    "name": "ipython",
    "version": 3
   },
   "file_extension": ".py",
   "mimetype": "text/x-python",
   "name": "python",
   "nbconvert_exporter": "python",
   "pygments_lexer": "ipython3",
   "version": "3.12.4"
  }
 },
 "nbformat": 4,
 "nbformat_minor": 5
}
